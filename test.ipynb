{
 "cells": [
  {
   "cell_type": "code",
   "execution_count": null,
   "metadata": {},
   "outputs": [],
   "source": [
    "#import importlib.util\n",
    "import matplotlib.pyplot as plt"
   ]
  },
  {
   "cell_type": "code",
   "execution_count": null,
   "metadata": {},
   "outputs": [],
   "source": [
    "import cv2\n",
    "import torch"
   ]
  },
  {
   "cell_type": "markdown",
   "metadata": {},
   "source": [
    "Add to dockerfile\n",
    "```bash\n",
    "mkdir weights && cd weights\n",
    "wget --no-check-certificate 'https://docs.google.com/uc?export=download&id=154JgKpzCPW82qINcVieuPH3fZ2e0P812' -O face_parsing.pth\n",
    "wget https://download.pytorch.org/models/resnet18-5c106cde.pth\n",
    "```"
   ]
  },
  {
   "cell_type": "code",
   "execution_count": null,
   "metadata": {},
   "outputs": [],
   "source": [
    "m_pathname = 'data/054680.jpg'\n",
    "im_pathname = 'data/balkany.PNG'\n",
    "#im_pathname = 'data/two_faces2.jpg'\n",
    "im_pathname = 'data/macron.PNG'\n",
    "#im_pathname = 'data/di_caprio.PNG'\n",
    "im_pathname = 'data/face_with_earrings.jpg'\n",
    "im_pathname = 'data/image.png'\n",
    "\n",
    "device = torch.device('cuda' if torch.cuda.is_available() else 'cpu')\n",
    "print(f'device = {device}')\n",
    "device='cpu'\n",
    "\n",
    "# Read the image using OpenCV\n",
    "img_origin = cv2.imread(im_pathname)\n",
    "original_size = img_origin.shape[:2]  # (height, width)\n"
   ]
  },
  {
   "cell_type": "code",
   "execution_count": null,
   "metadata": {},
   "outputs": [],
   "source": [
    "from src.face_segmentation import FaceSegmentation\n",
    "my_model = FaceSegmentation(device)"
   ]
  },
  {
   "cell_type": "code",
   "execution_count": null,
   "metadata": {},
   "outputs": [],
   "source": [
    "segments, masks, bboxes, face_parts = my_model.predict(img_origin)"
   ]
  },
  {
   "cell_type": "code",
   "execution_count": null,
   "metadata": {},
   "outputs": [],
   "source": [
    "for i, mask in enumerate(masks):\n",
    "\n",
    "    # Draw the rectangle on the color image\n",
    "    im_draw = img_origin.copy()\n",
    "    if bboxes[i] is not None:\n",
    "        cv2.rectangle(im_draw, (bboxes[i][0], bboxes[i][1]), (bboxes[i][2], bboxes[i][3]), (0, 255, 0), 2)\n",
    "\n",
    "    fig, axes = plt.subplots(1,2)\n",
    "    axes[0].imshow(mask, cmap='gray')\n",
    "    axes[0].set_title('mask')\n",
    "    axes[1].imshow(cv2.cvtColor(im_draw, cv2.COLOR_BGR2RGB))\n",
    "    axes[1].set_title('bbox')\n",
    "    plt.suptitle(face_parts[i])\n",
    "    plt.show()"
   ]
  }
 ],
 "metadata": {
  "kernelspec": {
   "display_name": "Python 3",
   "language": "python",
   "name": "python3"
  },
  "language_info": {
   "codemirror_mode": {
    "name": "ipython",
    "version": 3
   },
   "file_extension": ".py",
   "mimetype": "text/x-python",
   "name": "python",
   "nbconvert_exporter": "python",
   "pygments_lexer": "ipython3",
   "version": "3.8.10"
  }
 },
 "nbformat": 4,
 "nbformat_minor": 2
}
